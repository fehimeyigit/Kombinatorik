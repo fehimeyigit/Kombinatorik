{
  "nbformat": 4,
  "nbformat_minor": 0,
  "metadata": {
    "colab": {
      "name": "Permutasyon.ipynb",
      "version": "0.3.2",
      "provenance": [],
      "collapsed_sections": [],
      "include_colab_link": true
    },
    "kernelspec": {
      "name": "python3",
      "display_name": "Python 3"
    }
  },
  "cells": [
    {
      "cell_type": "markdown",
      "metadata": {
        "id": "view-in-github",
        "colab_type": "text"
      },
      "source": [
        "<a href=\"https://colab.research.google.com/github/fehimeyigit/Kombinatorik/blob/master/Permutasyon.ipynb\" target=\"_parent\"><img src=\"https://colab.research.google.com/assets/colab-badge.svg\" alt=\"Open In Colab\"/></a>"
      ]
    },
    {
      "metadata": {
        "id": "-WuECGQaBZVE",
        "colab_type": "text"
      },
      "cell_type": "markdown",
      "source": [
        "**Problem:**\n",
        "Ozdes 3 siyah,4 kırmızı ve 5 beyaz bardak bir rafa dizilecektir.Kırmızı bardaklar birlikte olmak kosuluyla kac farklı sekilde dizilebilirler?\n"
      ]
    },
    {
      "metadata": {
        "id": "tav978lXJeSy",
        "colab_type": "code",
        "colab": {}
      },
      "cell_type": "code",
      "source": [
        "Siyah=3\n",
        "Kırmızı=4\n",
        "Beyaz=5"
      ],
      "execution_count": 0,
      "outputs": []
    },
    {
      "metadata": {
        "id": "I4sDMHa7JmUZ",
        "colab_type": "text"
      },
      "cell_type": "markdown",
      "source": [
        "kırmızı bardaklar birarada olmalı, o yüzden kırmızı bardaklar 1 sayılır; "
      ]
    },
    {
      "metadata": {
        "id": "mEdHG-9RJrRU",
        "colab_type": "code",
        "colab": {}
      },
      "cell_type": "code",
      "source": [
        "Kırmızı=1\n",
        "toplamBardak=(Siyah+Kırmızı+Beyaz)\n",
        "\n"
      ],
      "execution_count": 0,
      "outputs": []
    },
    {
      "metadata": {
        "id": "seBc_gZmKFX2",
        "colab_type": "text"
      },
      "cell_type": "markdown",
      "source": [
        "Permütasyon hesabı için faktoriyel e permütasyon fonksiyonları;"
      ]
    },
    {
      "metadata": {
        "id": "AqP-ZQFtKShg",
        "colab_type": "code",
        "colab": {}
      },
      "cell_type": "code",
      "source": [
        "def faktoriyelHesapla(i):\n",
        "    \n",
        "    if i==1:       \n",
        "        return 1\n",
        "    \n",
        "    else: \n",
        "        return i * faktoriyelHesapla(i-1)\n",
        "    \n",
        "    \n",
        "    \n",
        "\n",
        "    \n"
      ],
      "execution_count": 0,
      "outputs": []
    },
    {
      "metadata": {
        "id": "uRoJqYwqKXuj",
        "colab_type": "text"
      },
      "cell_type": "markdown",
      "source": [
        "Tekrarlı permütasyon hesabı yapılır;"
      ]
    },
    {
      "metadata": {
        "id": "sQo7y5aZKcKT",
        "colab_type": "code",
        "colab": {
          "base_uri": "https://localhost:8080/",
          "height": 51
        },
        "outputId": "4aa6800f-be1f-42f9-ae54-9f0c343cb563"
      },
      "cell_type": "code",
      "source": [
        "    \n",
        "    \n",
        "def tekrarlipermutasyon():\n",
        "         \n",
        "      sonuc = (faktoriyelHesapla(toplamBardak)/(faktoriyelHesapla(Siyah)*faktoriyelHesapla(Beyaz)*faktoriyelHesapla(Kırmızı)))\n",
        "        \n",
        "      return sonuc\n",
        "  \n",
        "print(\"\\nSonuç:\", tekrarlipermutasyon() )"
      ],
      "execution_count": 15,
      "outputs": [
        {
          "output_type": "stream",
          "text": [
            "\n",
            "Sonuç: 504.0\n"
          ],
          "name": "stdout"
        }
      ]
    }
  ]
}