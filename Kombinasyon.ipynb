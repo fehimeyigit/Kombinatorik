{
  "nbformat": 4,
  "nbformat_minor": 0,
  "metadata": {
    "colab": {
      "name": "Kombinasyon.ipynb",
      "version": "0.3.2",
      "provenance": [],
      "include_colab_link": true
    },
    "kernelspec": {
      "name": "python3",
      "display_name": "Python 3"
    }
  },
  "cells": [
    {
      "cell_type": "markdown",
      "metadata": {
        "id": "view-in-github",
        "colab_type": "text"
      },
      "source": [
        "<a href=\"https://colab.research.google.com/github/fehimeyigit/Kombinatorik/blob/master/Kombinasyon.ipynb\" target=\"_parent\"><img src=\"https://colab.research.google.com/assets/colab-badge.svg\" alt=\"Open In Colab\"/></a>"
      ]
    },
    {
      "metadata": {
        "id": "Pv404tINM2em",
        "colab_type": "text"
      },
      "cell_type": "markdown",
      "source": [
        "**Problem**:M={1,2,3,4,5...20} kümesi verilmiş olsun.Bu kümeden 3 eleman seçilecektir ve bu elemanların toplamı 3 e bölünebiliyor.Kaç farklı seçim yapılabilir?\n",
        "\n"
      ]
    },
    {
      "metadata": {
        "id": "S5UB9b4PNV30",
        "colab_type": "code",
        "colab": {}
      },
      "cell_type": "code",
      "source": [
        "M=[1,2,3,4,5,6,7,8,9,10,11,12,13,14,15,16,17,18,19,20]"
      ],
      "execution_count": 0,
      "outputs": []
    },
    {
      "metadata": {
        "id": "pXCRJvHQNxJM",
        "colab_type": "text"
      },
      "cell_type": "markdown",
      "source": [
        "Verilen bu kümede 3 e bölündüğünde 0,1 ve 2 kalanları veren eleman sayıları;\n"
      ]
    },
    {
      "metadata": {
        "id": "D_jYvUetN8i8",
        "colab_type": "code",
        "colab": {}
      },
      "cell_type": "code",
      "source": [
        "uceTambolunen=0\n",
        "birKalan=0\n",
        "ikiKalan=0\n",
        "\n",
        "for i in M:\n",
        "    \n",
        "    if i%3==0:\n",
        "        uceTambolunen=uceTambolunen+1\n",
        "    elif i%3==1:\n",
        "        birKalan=birKalan+1\n",
        "    else:\n",
        "        ikiKalan=ikiKalan+1\n",
        "        \n",
        "        \n",
        "        \n",
        "       \n",
        "        "
      ],
      "execution_count": 0,
      "outputs": []
    },
    {
      "metadata": {
        "id": "PDVkuWFyNep7",
        "colab_type": "text"
      },
      "cell_type": "markdown",
      "source": [
        "Faktoriyel ve kombnasyon hesaplamaları;\n"
      ]
    },
    {
      "metadata": {
        "id": "P3dCJQoWNp0-",
        "colab_type": "code",
        "colab": {}
      },
      "cell_type": "code",
      "source": [
        "def faktoriyelHesapla(i):\n",
        "    \n",
        "    if i==1:       \n",
        "        return 1\n",
        "    \n",
        "    else: \n",
        "        return i * faktoriyelHesapla(i-1)\n",
        "    \n",
        "\n",
        "def kombinasyon(n,x):\n",
        "         \n",
        "    sonuc = (faktoriyelHesapla(n)/(faktoriyelHesapla(n-x)*faktoriyelHesapla(x)))\n",
        "        \n",
        "    return sonuc"
      ],
      "execution_count": 0,
      "outputs": []
    },
    {
      "metadata": {
        "id": "5lQEAJaqOoFJ",
        "colab_type": "text"
      },
      "cell_type": "markdown",
      "source": [
        "her gruptan üç tane ve birer tane eleman seçildiğinde;\n"
      ]
    },
    {
      "metadata": {
        "id": "DwtOg8F7OxXh",
        "colab_type": "code",
        "colab": {
          "base_uri": "https://localhost:8080/",
          "height": 34
        },
        "outputId": "fff96649-178a-4907-96f8-8c6c344864db"
      },
      "cell_type": "code",
      "source": [
        "toplam=(kombinasyon(6,3)+kombinasyon(7,3)+kombinasyon(7,3)+(kombinasyon(6,1)*kombinasyon(7,1)*kombinasyon(7,1)))\n",
        "print(toplam,\"farklı seçim vardır\")"
      ],
      "execution_count": 7,
      "outputs": [
        {
          "output_type": "stream",
          "text": [
            "384.0 farklı seçim vardır\n"
          ],
          "name": "stdout"
        }
      ]
    }
  ]
}